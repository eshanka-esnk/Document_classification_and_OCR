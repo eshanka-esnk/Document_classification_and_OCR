{
 "cells": [
  {
   "cell_type": "code",
   "execution_count": null,
   "metadata": {},
   "outputs": [],
   "source": [
    "import torch\n",
    "from helpers.utilities import load_model, test_model"
   ]
  },
  {
   "cell_type": "code",
   "execution_count": 2,
   "metadata": {},
   "outputs": [
    {
     "name": "stdout",
     "output_type": "stream",
     "text": [
      "[INFO]: Computation device: cuda:0\n",
      "\n"
     ]
    }
   ],
   "source": [
    "device = torch.device('cuda:0' if torch.cuda.is_available() else 'cpu')\n",
    "print(f\"[INFO]: Computation device: {device}\\n\")"
   ]
  },
  {
   "cell_type": "code",
   "execution_count": 3,
   "metadata": {},
   "outputs": [],
   "source": [
    "model = load_model('models/best_model.pth', device)"
   ]
  },
  {
   "cell_type": "code",
   "execution_count": 4,
   "metadata": {},
   "outputs": [],
   "source": [
    "image_dirs = {'testing_images' : \"data/test\"}\n",
    "csv_locations = {'testing_data' : 'data/test/_classes.csv'}"
   ]
  },
  {
   "cell_type": "code",
   "execution_count": 5,
   "metadata": {},
   "outputs": [
    {
     "name": "stdout",
     "output_type": "stream",
     "text": [
      "[INFO]: Total test images: 38\n"
     ]
    }
   ],
   "source": [
    "from helpers.dataset import create_dataloaders, load_datasets\n",
    "\n",
    "testing_data = load_datasets(image_dirs, csv_locations, train=False)\n",
    "\n",
    "test_dl = create_dataloaders(testing_data=testing_data, batch_size=128)\n"
   ]
  },
  {
   "cell_type": "code",
   "execution_count": 6,
   "metadata": {},
   "outputs": [
    {
     "name": "stdout",
     "output_type": "stream",
     "text": [
      "[INFO]: Testing...\n",
      "[INFO]: Predicted index: 1, Label: 0, Predicted index does not match label\n",
      "[INFO]: Predicted index: 1, Label: 5, Predicted index does not match label\n",
      "[INFO]: Predicted index: 2, Label: 0, Predicted index does not match label\n",
      "[INFO]: Predicted index: 3, Label: 3, Predicted index matches label\n",
      "[INFO]: Predicted index: 1, Label: 1, Predicted index matches label\n",
      "[INFO]: Predicted index: 3, Label: 2, Predicted index does not match label\n",
      "[INFO]: Predicted index: 0, Label: 0, Predicted index matches label\n",
      "[INFO]: Predicted index: 0, Label: 0, Predicted index matches label\n",
      "[INFO]: Predicted index: 3, Label: 3, Predicted index matches label\n",
      "[INFO]: Predicted index: 2, Label: 2, Predicted index matches label\n",
      "[INFO]: Predicted index: 1, Label: 1, Predicted index matches label\n",
      "[INFO]: Predicted index: 0, Label: 0, Predicted index matches label\n",
      "[INFO]: Predicted index: 3, Label: 3, Predicted index matches label\n",
      "[INFO]: Predicted index: 0, Label: 3, Predicted index does not match label\n",
      "[INFO]: Predicted index: 3, Label: 0, Predicted index does not match label\n",
      "[INFO]: Predicted index: 1, Label: 0, Predicted index does not match label\n",
      "[INFO]: Predicted index: 2, Label: 2, Predicted index matches label\n",
      "[INFO]: Predicted index: 2, Label: 2, Predicted index matches label\n",
      "[INFO]: Predicted index: 2, Label: 2, Predicted index matches label\n",
      "[INFO]: Predicted index: 3, Label: 3, Predicted index matches label\n",
      "[INFO]: Predicted index: 1, Label: 1, Predicted index matches label\n",
      "[INFO]: Predicted index: 1, Label: 1, Predicted index matches label\n",
      "[INFO]: Predicted index: 0, Label: 0, Predicted index matches label\n",
      "[INFO]: Predicted index: 2, Label: 5, Predicted index does not match label\n",
      "[INFO]: Predicted index: 1, Label: 1, Predicted index matches label\n",
      "[INFO]: Predicted index: 1, Label: 1, Predicted index matches label\n",
      "[INFO]: Predicted index: 2, Label: 0, Predicted index does not match label\n",
      "[INFO]: Predicted index: 0, Label: 0, Predicted index matches label\n",
      "[INFO]: Predicted index: 0, Label: 0, Predicted index matches label\n",
      "[INFO]: Predicted index: 0, Label: 0, Predicted index matches label\n",
      "[INFO]: Predicted index: 0, Label: 0, Predicted index matches label\n",
      "[INFO]: Predicted index: 1, Label: 5, Predicted index does not match label\n",
      "[INFO]: Predicted index: 2, Label: 2, Predicted index matches label\n",
      "[INFO]: Predicted index: 0, Label: 2, Predicted index does not match label\n",
      "[INFO]: Predicted index: 2, Label: 2, Predicted index matches label\n",
      "[INFO]: Predicted index: 0, Label: 0, Predicted index matches label\n",
      "[INFO]: Predicted index: 1, Label: 1, Predicted index matches label\n",
      "[INFO]: Predicted index: 3, Label: 3, Predicted index matches label\n",
      "[INFO]: Accuracy: 0.7105\n"
     ]
    }
   ],
   "source": [
    "test_model(model, test_dl, device)"
   ]
  }
 ],
 "metadata": {
  "kernelspec": {
   "display_name": ".venv",
   "language": "python",
   "name": "python3"
  },
  "language_info": {
   "codemirror_mode": {
    "name": "ipython",
    "version": 3
   },
   "file_extension": ".py",
   "mimetype": "text/x-python",
   "name": "python",
   "nbconvert_exporter": "python",
   "pygments_lexer": "ipython3",
   "version": "3.10.0"
  }
 },
 "nbformat": 4,
 "nbformat_minor": 2
}
